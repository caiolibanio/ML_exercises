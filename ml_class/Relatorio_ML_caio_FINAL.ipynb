{
 "cells": [
  {
   "cell_type": "markdown",
   "metadata": {},
   "source": [
    "Este notebook segue o fluxo de trabalho apresentado aqui (https://www.datacamp.com/community/tutorials/scikit-learn-fake-news) onde é utilizado um conjunto de dados previamente marcados como REAL news ou FAKE news."
   ]
  },
  {
   "cell_type": "code",
   "execution_count": 1,
   "metadata": {},
   "outputs": [],
   "source": [
    "import pandas as pd\n",
    "import numpy as np\n",
    "import itertools\n",
    "from sklearn.model_selection import train_test_split\n",
    "from sklearn.feature_extraction.text import CountVectorizer\n",
    "from sklearn.feature_extraction.text import TfidfVectorizer\n",
    "from sklearn.naive_bayes import MultinomialNB\n",
    "from sklearn.linear_model import PassiveAggressiveClassifier\n",
    "from sklearn.metrics import accuracy_score\n",
    "from sklearn.metrics import confusion_matrix\n",
    "import matplotlib.pyplot as plt\n",
    "from sklearn.model_selection import cross_val_score\n",
    "from sklearn.svm import LinearSVC\n",
    "import time"
   ]
  },
  {
   "cell_type": "code",
   "execution_count": 2,
   "metadata": {},
   "outputs": [
    {
     "data": {
      "text/html": [
       "<div>\n",
       "<style>\n",
       "    .dataframe thead tr:only-child th {\n",
       "        text-align: right;\n",
       "    }\n",
       "\n",
       "    .dataframe thead th {\n",
       "        text-align: left;\n",
       "    }\n",
       "\n",
       "    .dataframe tbody tr th {\n",
       "        vertical-align: top;\n",
       "    }\n",
       "</style>\n",
       "<table border=\"1\" class=\"dataframe\">\n",
       "  <thead>\n",
       "    <tr style=\"text-align: right;\">\n",
       "      <th></th>\n",
       "      <th>text</th>\n",
       "    </tr>\n",
       "  </thead>\n",
       "  <tbody>\n",
       "    <tr>\n",
       "      <th>0</th>\n",
       "      <td>A família Guimarães passou a noite de Natal pe...</td>\n",
       "    </tr>\n",
       "    <tr>\n",
       "      <th>1</th>\n",
       "      <td>Uma menina de 11 anos apedrejada ao sair de um...</td>\n",
       "    </tr>\n",
       "    <tr>\n",
       "      <th>2</th>\n",
       "      <td>Insatisfeitas com seus partidos com as siglas ...</td>\n",
       "    </tr>\n",
       "    <tr>\n",
       "      <th>3</th>\n",
       "      <td>O Instituto Nupal (Núcleo de Pesquisas da Amér...</td>\n",
       "    </tr>\n",
       "    <tr>\n",
       "      <th>4</th>\n",
       "      <td>Assassinatos sequestros mortes violentas. Nenh...</td>\n",
       "    </tr>\n",
       "    <tr>\n",
       "      <th>5</th>\n",
       "      <td>No Dia do Trabalhador uma notícia especial par...</td>\n",
       "    </tr>\n",
       "    <tr>\n",
       "      <th>6</th>\n",
       "      <td>“Por que o povo não está nas ruas?” “Como é qu...</td>\n",
       "    </tr>\n",
       "    <tr>\n",
       "      <th>7</th>\n",
       "      <td>Iemanjá está preocupada com a proximidade do A...</td>\n",
       "    </tr>\n",
       "    <tr>\n",
       "      <th>8</th>\n",
       "      <td>Após o caso de perseguição e morte do trafican...</td>\n",
       "    </tr>\n",
       "    <tr>\n",
       "      <th>9</th>\n",
       "      <td>O líder da milícia de Rio das Pedras Alessandr...</td>\n",
       "    </tr>\n",
       "    <tr>\n",
       "      <th>10</th>\n",
       "      <td>O ex-presidente Lula foi visto hoje comprando ...</td>\n",
       "    </tr>\n",
       "    <tr>\n",
       "      <th>11</th>\n",
       "      <td>Depois de finalmente concluir Chatô o Rei do B...</td>\n",
       "    </tr>\n",
       "    <tr>\n",
       "      <th>12</th>\n",
       "      <td>O senador Aécio Neves que namorou a Miss Brasi...</td>\n",
       "    </tr>\n",
       "    <tr>\n",
       "      <th>13</th>\n",
       "      <td>O Núcleo de Pesquisas da América Latina (NuPAL...</td>\n",
       "    </tr>\n",
       "    <tr>\n",
       "      <th>14</th>\n",
       "      <td>O mundo acordou hoje um pouco atrasado depois ...</td>\n",
       "    </tr>\n",
       "    <tr>\n",
       "      <th>15</th>\n",
       "      <td>Mais uma vez indiciado agora pelo triplex que ...</td>\n",
       "    </tr>\n",
       "    <tr>\n",
       "      <th>16</th>\n",
       "      <td>A Justiça suspendeu por liminar a nomeação de ...</td>\n",
       "    </tr>\n",
       "    <tr>\n",
       "      <th>17</th>\n",
       "      <td>A Polícia Federal executou hoje mais uma ação ...</td>\n",
       "    </tr>\n",
       "    <tr>\n",
       "      <th>18</th>\n",
       "      <td>Um curso bastante inusitado está sendo feito p...</td>\n",
       "    </tr>\n",
       "    <tr>\n",
       "      <th>19</th>\n",
       "      <td>Carlos Alberto Antunes estava em coma havia dé...</td>\n",
       "    </tr>\n",
       "    <tr>\n",
       "      <th>20</th>\n",
       "      <td>A primeira-dama Marcela Temer fez sua estreia ...</td>\n",
       "    </tr>\n",
       "    <tr>\n",
       "      <th>21</th>\n",
       "      <td>A (por enquanto) presidente Dilma foi vista ma...</td>\n",
       "    </tr>\n",
       "    <tr>\n",
       "      <th>22</th>\n",
       "      <td>Demorou teve muita espera e conversa e muito a...</td>\n",
       "    </tr>\n",
       "    <tr>\n",
       "      <th>23</th>\n",
       "      <td>O candidato à presidência pelo PSDB Aécio Neve...</td>\n",
       "    </tr>\n",
       "    <tr>\n",
       "      <th>24</th>\n",
       "      <td>Em meio a repetitiva polêmica em torno do que ...</td>\n",
       "    </tr>\n",
       "    <tr>\n",
       "      <th>25</th>\n",
       "      <td>Não teve coxão de jogador de futebol barriga d...</td>\n",
       "    </tr>\n",
       "    <tr>\n",
       "      <th>26</th>\n",
       "      <td>A vegana Maria de Fátima Amaral Leite trava um...</td>\n",
       "    </tr>\n",
       "    <tr>\n",
       "      <th>27</th>\n",
       "      <td>Lula publicou nessa manhã um artigo em sua def...</td>\n",
       "    </tr>\n",
       "    <tr>\n",
       "      <th>28</th>\n",
       "      <td>Por falta de condições adequadas para a manute...</td>\n",
       "    </tr>\n",
       "    <tr>\n",
       "      <th>29</th>\n",
       "      <td>O Dia dos Namorados não começou bem na casa do...</td>\n",
       "    </tr>\n",
       "    <tr>\n",
       "      <th>...</th>\n",
       "      <td>...</td>\n",
       "    </tr>\n",
       "    <tr>\n",
       "      <th>8784</th>\n",
       "      <td>BRASÍLIA - Dez dos 81 deputados federais que d...</td>\n",
       "    </tr>\n",
       "    <tr>\n",
       "      <th>8785</th>\n",
       "      <td>O prefeito eleito de São Paulo João Doria (PSD...</td>\n",
       "    </tr>\n",
       "    <tr>\n",
       "      <th>8786</th>\n",
       "      <td>SÃO PAULO - O prefeito Fernando Haddad obteve ...</td>\n",
       "    </tr>\n",
       "    <tr>\n",
       "      <th>8787</th>\n",
       "      <td>À exceção do já previsto desastre petista não ...</td>\n",
       "    </tr>\n",
       "    <tr>\n",
       "      <th>8788</th>\n",
       "      <td>Com o PT despencando e o PSDB tendo uma vitóri...</td>\n",
       "    </tr>\n",
       "    <tr>\n",
       "      <th>8789</th>\n",
       "      <td>A Operação Lava Jato reuniu e-mails e mensagen...</td>\n",
       "    </tr>\n",
       "    <tr>\n",
       "      <th>8790</th>\n",
       "      <td>Não se sabe se a vitória surpreendente e acach...</td>\n",
       "    </tr>\n",
       "    <tr>\n",
       "      <th>8791</th>\n",
       "      <td>O direito fundamental à liberdade de reunião (...</td>\n",
       "    </tr>\n",
       "    <tr>\n",
       "      <th>8792</th>\n",
       "      <td>A capital paulista registrou nas eleições muni...</td>\n",
       "    </tr>\n",
       "    <tr>\n",
       "      <th>8793</th>\n",
       "      <td>Réu por corrupção passiva e lavagem de dinheir...</td>\n",
       "    </tr>\n",
       "    <tr>\n",
       "      <th>8794</th>\n",
       "      <td>Ao som do tema da vitória que consagrou o pilo...</td>\n",
       "    </tr>\n",
       "    <tr>\n",
       "      <th>8795</th>\n",
       "      <td>No CEU Navegantes maior local de votação do Gr...</td>\n",
       "    </tr>\n",
       "    <tr>\n",
       "      <th>8796</th>\n",
       "      <td>A deputada federal Luiza Erundina candidata à ...</td>\n",
       "    </tr>\n",
       "    <tr>\n",
       "      <th>8797</th>\n",
       "      <td>SÃO PAULO - A candidata derrotada do PMDB Mart...</td>\n",
       "    </tr>\n",
       "    <tr>\n",
       "      <th>8798</th>\n",
       "      <td>Não à toa as eleições em São Paulo tiveram uma...</td>\n",
       "    </tr>\n",
       "    <tr>\n",
       "      <th>8799</th>\n",
       "      <td>São Paulo - Com dificuldade para escolher o pr...</td>\n",
       "    </tr>\n",
       "    <tr>\n",
       "      <th>8800</th>\n",
       "      <td>A eleição para prefeito de São Paulo pode ser ...</td>\n",
       "    </tr>\n",
       "    <tr>\n",
       "      <th>8801</th>\n",
       "      <td>O governador do Maranhão Flavio Dino (PCdoB) a...</td>\n",
       "    </tr>\n",
       "    <tr>\n",
       "      <th>8802</th>\n",
       "      <td>O candidato do PSDB João Doria foi eleito nest...</td>\n",
       "    </tr>\n",
       "    <tr>\n",
       "      <th>8803</th>\n",
       "      <td>Um dos principais aliados do presidente do PSD...</td>\n",
       "    </tr>\n",
       "    <tr>\n",
       "      <th>8804</th>\n",
       "      <td>O primeiro turno em Campo Grande capital do Ma...</td>\n",
       "    </tr>\n",
       "    <tr>\n",
       "      <th>8805</th>\n",
       "      <td>MACEIÓ- O candidato do PSDB e atual prefeito d...</td>\n",
       "    </tr>\n",
       "    <tr>\n",
       "      <th>8806</th>\n",
       "      <td>Porto Alegre 2/10/2016 – A eleição para a pref...</td>\n",
       "    </tr>\n",
       "    <tr>\n",
       "      <th>8807</th>\n",
       "      <td>A vitória de João Doria (PSDB) no primeiro tur...</td>\n",
       "    </tr>\n",
       "    <tr>\n",
       "      <th>8808</th>\n",
       "      <td>Dois atleticanos vão disputar o segundo turno ...</td>\n",
       "    </tr>\n",
       "    <tr>\n",
       "      <th>8809</th>\n",
       "      <td>A histórica eleição de João Doria (PSDB) em pr...</td>\n",
       "    </tr>\n",
       "    <tr>\n",
       "      <th>8810</th>\n",
       "      <td>A poucas quadras da sede de campanha do Russom...</td>\n",
       "    </tr>\n",
       "    <tr>\n",
       "      <th>8811</th>\n",
       "      <td>O ministro da Secretaria de Governo Geddel Vie...</td>\n",
       "    </tr>\n",
       "    <tr>\n",
       "      <th>8812</th>\n",
       "      <td>Passadas a disputa nas urnas alguns candidatos...</td>\n",
       "    </tr>\n",
       "    <tr>\n",
       "      <th>8813</th>\n",
       "      <td>Momentos antes do fim das apurações das eleiçõ...</td>\n",
       "    </tr>\n",
       "  </tbody>\n",
       "</table>\n",
       "<p>8814 rows × 1 columns</p>\n",
       "</div>"
      ],
      "text/plain": [
       "                                                   text\n",
       "0     A família Guimarães passou a noite de Natal pe...\n",
       "1     Uma menina de 11 anos apedrejada ao sair de um...\n",
       "2     Insatisfeitas com seus partidos com as siglas ...\n",
       "3     O Instituto Nupal (Núcleo de Pesquisas da Amér...\n",
       "4     Assassinatos sequestros mortes violentas. Nenh...\n",
       "5     No Dia do Trabalhador uma notícia especial par...\n",
       "6     “Por que o povo não está nas ruas?” “Como é qu...\n",
       "7     Iemanjá está preocupada com a proximidade do A...\n",
       "8     Após o caso de perseguição e morte do trafican...\n",
       "9     O líder da milícia de Rio das Pedras Alessandr...\n",
       "10    O ex-presidente Lula foi visto hoje comprando ...\n",
       "11    Depois de finalmente concluir Chatô o Rei do B...\n",
       "12    O senador Aécio Neves que namorou a Miss Brasi...\n",
       "13    O Núcleo de Pesquisas da América Latina (NuPAL...\n",
       "14    O mundo acordou hoje um pouco atrasado depois ...\n",
       "15    Mais uma vez indiciado agora pelo triplex que ...\n",
       "16    A Justiça suspendeu por liminar a nomeação de ...\n",
       "17    A Polícia Federal executou hoje mais uma ação ...\n",
       "18    Um curso bastante inusitado está sendo feito p...\n",
       "19    Carlos Alberto Antunes estava em coma havia dé...\n",
       "20    A primeira-dama Marcela Temer fez sua estreia ...\n",
       "21    A (por enquanto) presidente Dilma foi vista ma...\n",
       "22    Demorou teve muita espera e conversa e muito a...\n",
       "23    O candidato à presidência pelo PSDB Aécio Neve...\n",
       "24    Em meio a repetitiva polêmica em torno do que ...\n",
       "25    Não teve coxão de jogador de futebol barriga d...\n",
       "26    A vegana Maria de Fátima Amaral Leite trava um...\n",
       "27    Lula publicou nessa manhã um artigo em sua def...\n",
       "28    Por falta de condições adequadas para a manute...\n",
       "29    O Dia dos Namorados não começou bem na casa do...\n",
       "...                                                 ...\n",
       "8784  BRASÍLIA - Dez dos 81 deputados federais que d...\n",
       "8785  O prefeito eleito de São Paulo João Doria (PSD...\n",
       "8786  SÃO PAULO - O prefeito Fernando Haddad obteve ...\n",
       "8787  À exceção do já previsto desastre petista não ...\n",
       "8788  Com o PT despencando e o PSDB tendo uma vitóri...\n",
       "8789  A Operação Lava Jato reuniu e-mails e mensagen...\n",
       "8790  Não se sabe se a vitória surpreendente e acach...\n",
       "8791  O direito fundamental à liberdade de reunião (...\n",
       "8792  A capital paulista registrou nas eleições muni...\n",
       "8793  Réu por corrupção passiva e lavagem de dinheir...\n",
       "8794  Ao som do tema da vitória que consagrou o pilo...\n",
       "8795  No CEU Navegantes maior local de votação do Gr...\n",
       "8796  A deputada federal Luiza Erundina candidata à ...\n",
       "8797  SÃO PAULO - A candidata derrotada do PMDB Mart...\n",
       "8798  Não à toa as eleições em São Paulo tiveram uma...\n",
       "8799  São Paulo - Com dificuldade para escolher o pr...\n",
       "8800  A eleição para prefeito de São Paulo pode ser ...\n",
       "8801  O governador do Maranhão Flavio Dino (PCdoB) a...\n",
       "8802  O candidato do PSDB João Doria foi eleito nest...\n",
       "8803  Um dos principais aliados do presidente do PSD...\n",
       "8804  O primeiro turno em Campo Grande capital do Ma...\n",
       "8805  MACEIÓ- O candidato do PSDB e atual prefeito d...\n",
       "8806  Porto Alegre 2/10/2016 – A eleição para a pref...\n",
       "8807  A vitória de João Doria (PSDB) no primeiro tur...\n",
       "8808  Dois atleticanos vão disputar o segundo turno ...\n",
       "8809  A histórica eleição de João Doria (PSDB) em pr...\n",
       "8810  A poucas quadras da sede de campanha do Russom...\n",
       "8811  O ministro da Secretaria de Governo Geddel Vie...\n",
       "8812  Passadas a disputa nas urnas alguns candidatos...\n",
       "8813  Momentos antes do fim das apurações das eleiçõ...\n",
       "\n",
       "[8814 rows x 1 columns]"
      ]
     },
     "execution_count": 2,
     "metadata": {},
     "output_type": "execute_result"
    }
   ],
   "source": [
    "df = pd.read_csv(\"csvNews.csv\")\n",
    "# Set 'y' \n",
    "y = df.label\n",
    "\n",
    "# Drop the 'label' column\n",
    "df.drop(\"label\", axis=1)"
   ]
  },
  {
   "cell_type": "code",
   "execution_count": 3,
   "metadata": {},
   "outputs": [],
   "source": [
    "def extractTrainingAndTestData():\n",
    "    # Make training and test sets\n",
    "    X_train, X_test, y_train, y_test = train_test_split(df['text'], y, test_size=0.30, random_state=50)\n",
    "    \n",
    "    return X_train, X_test, y_train, y_test"
   ]
  },
  {
   "cell_type": "code",
   "execution_count": 4,
   "metadata": {},
   "outputs": [],
   "source": [
    "X_train, X_test, y_train, y_test = extractTrainingAndTestData()"
   ]
  },
  {
   "cell_type": "code",
   "execution_count": 5,
   "metadata": {},
   "outputs": [],
   "source": [
    "def extractAllTrainingData():\n",
    "    X_train_all, X_test_all, y_train_all, y_test_all = train_test_split(df['text'], y, test_size=0, random_state=50)\n",
    "    \n",
    "    return X_train_all, y_train_all"
   ]
  },
  {
   "cell_type": "code",
   "execution_count": 6,
   "metadata": {},
   "outputs": [],
   "source": [
    "X_train_all, y_train_all = extractAllTrainingData()"
   ]
  },
  {
   "cell_type": "code",
   "execution_count": 7,
   "metadata": {},
   "outputs": [],
   "source": [
    "def loadStopWordsPT(filename):\n",
    "    lines = [line.rstrip('\\n').strip() for line in open(filename)]\n",
    "    return lines"
   ]
  },
  {
   "cell_type": "code",
   "execution_count": 8,
   "metadata": {},
   "outputs": [],
   "source": [
    "def buildCountVectorizerClassifier(X_train, X_test, X_train_all):\n",
    "\n",
    "    # Initialize the 'count_vectorizer'\n",
    "    count_vectorizer = CountVectorizer(stop_words=loadStopWordsPT('stop_words_noAccents_pt_plus.txt'), strip_accents=\"ascii\", max_df=0.7)\n",
    "    \n",
    "    # Initialize the 'count_vectorizer' for cross validation\n",
    "    count_vectorizer_all = CountVectorizer(stop_words=loadStopWordsPT('stop_words_noAccents_pt_plus.txt'), strip_accents=\"ascii\", max_df=0.7)\n",
    "    \n",
    "    # Fit and transform the training data \n",
    "    count_train = count_vectorizer.fit_transform(X_train.values.astype('str'))\n",
    "    \n",
    "    # Fit and transform the training data for cross validation\n",
    "    count_train_all = count_vectorizer_all.fit_transform(X_train_all.values.astype('str'))\n",
    "    \n",
    "    # Transform the test set \n",
    "    count_test = count_vectorizer.transform(X_test.values.astype('str'))\n",
    "    \n",
    "    return count_train, count_test, count_vectorizer, count_train_all"
   ]
  },
  {
   "cell_type": "code",
   "execution_count": 9,
   "metadata": {},
   "outputs": [],
   "source": [
    "def buildTFIDFVectorizerClassifier(X_train, X_test, X_train_all):\n",
    "\n",
    "    # Initialize the 'tfidf_vectorizer' \n",
    "    tfidf_vectorizer = TfidfVectorizer(stop_words=loadStopWordsPT('stop_words_noAccents_pt_plus.txt'), max_df=0.7, strip_accents=\"ascii\")\n",
    "    \n",
    "    # Initialize the 'tfidf_vectorizer' for cross validation\n",
    "    tfidf_vectorizer_all = TfidfVectorizer(stop_words=loadStopWordsPT('stop_words_noAccents_pt_plus.txt'), max_df=0.7, strip_accents=\"ascii\")\n",
    "\n",
    "    # Fit and transform the training data \n",
    "    tfidf_train = tfidf_vectorizer.fit_transform(X_train.values.astype('str')) \n",
    "    \n",
    "    # Fit and transform the training data for cross validation\n",
    "    tfidf_train_all = tfidf_vectorizer_all.fit_transform(X_train_all.values.astype('str')) \n",
    "\n",
    "    # Transform the test set \n",
    "    tfidf_test = tfidf_vectorizer.transform(X_test.values.astype('str'))\n",
    "    \n",
    "    return tfidf_train, tfidf_test, tfidf_vectorizer, tfidf_train_all"
   ]
  },
  {
   "cell_type": "markdown",
   "metadata": {},
   "source": [
    "Método implementado para a plotagem da Confusion Matrix."
   ]
  },
  {
   "cell_type": "code",
   "execution_count": 10,
   "metadata": {},
   "outputs": [],
   "source": [
    "def plot_confusion_matrix(cm, classes, normalize=False, title='Confusion matrix', cmap=plt.cm.Blues):\n",
    "    plt.imshow(cm, interpolation='nearest', cmap=cmap)\n",
    "    plt.title(title)\n",
    "    plt.colorbar()\n",
    "    tick_marks = np.arange(len(classes))\n",
    "    plt.xticks(tick_marks, classes, rotation=45)\n",
    "    plt.yticks(tick_marks, classes)\n",
    "\n",
    "    if normalize:\n",
    "        cm = cm.astype('float') / cm.sum(axis=1)[:, np.newaxis]\n",
    "        print(\"Normalized confusion matrix\")\n",
    "    else:\n",
    "        print('Confusion matrix, without normalization')\n",
    "    \n",
    "    thresh = cm.max() / 2.\n",
    "    for i, j in itertools.product(range(cm.shape[0]), range(cm.shape[1])):\n",
    "        plt.text(j, i, cm[i, j],\n",
    "                 horizontalalignment=\"center\",\n",
    "                 color=\"white\" if cm[i, j] > thresh else \"black\")\n",
    "\n",
    "    plt.tight_layout()\n",
    "    plt.ylabel('True label')\n",
    "    plt.xlabel('Predicted label')"
   ]
  },
  {
   "cell_type": "code",
   "execution_count": 11,
   "metadata": {},
   "outputs": [],
   "source": [
    "def most_informative_feature_for_binary_classification(vectorizer, classifier, n):\n",
    "    class_labels = classifier.classes_\n",
    "    feature_names = vectorizer.get_feature_names()\n",
    "    topn_class1 = sorted(zip(classifier.coef_[0], feature_names))[:n]\n",
    "    topn_class2 = sorted(zip(classifier.coef_[0], feature_names))[-n:]\n",
    "\n",
    "    for coef, feat in topn_class1:\n",
    "        print(class_labels[0], coef, feat)\n",
    "\n",
    "    print()\n",
    "\n",
    "    for coef, feat in reversed(topn_class2):\n",
    "        print(class_labels[1], coef, feat)"
   ]
  },
  {
   "cell_type": "code",
   "execution_count": 12,
   "metadata": {},
   "outputs": [],
   "source": [
    "def trainModel(model, X_train, Y_train, X_test, y_test):\n",
    "    model.fit(X_train, Y_train)\n",
    "    pred = model.predict(X_test)\n",
    "    score = accuracy_score(y_test, pred)\n",
    "    return model, pred, score"
   ]
  },
  {
   "cell_type": "markdown",
   "metadata": {},
   "source": [
    "Plotagem da matriz de confusão"
   ]
  },
  {
   "cell_type": "code",
   "execution_count": 13,
   "metadata": {},
   "outputs": [],
   "source": [
    "def plotConfMatrix(pred):\n",
    "    cm = confusion_matrix(y_test, pred, labels=['FAKE', 'REAL'])\n",
    "    plot_confusion_matrix(cm, classes=['FAKE', 'REAL'])\n",
    "    plt.show()"
   ]
  },
  {
   "cell_type": "markdown",
   "metadata": {},
   "source": [
    "Realizando as transformações dos conjuntos de treino e teste, considerando a simples contagem de palavras (CountVectorizer) e os valores considerando o TFIDF (TFIDFVectorizer). As matrizes, considerando estas duas transformações, serão passadas para os modelos para que estes tentem aprender algo útil dos dados."
   ]
  },
  {
   "cell_type": "code",
   "execution_count": 14,
   "metadata": {},
   "outputs": [],
   "source": [
    "count_train, count_test, count_vectorizer, count_train_all = buildCountVectorizerClassifier(X_train, X_test, X_train_all)\n",
    "tfidf_train, tfidf_test, tfidf_vectorizer, tfidf_train_all = buildTFIDFVectorizerClassifier(X_train, X_test, X_train_all)"
   ]
  },
  {
   "cell_type": "code",
   "execution_count": 15,
   "metadata": {},
   "outputs": [],
   "source": [
    "NB_tfidf = MultinomialNB()\n",
    "NB_count = MultinomialNB()\n",
    "\n",
    "linear_PAC_tfidf = PassiveAggressiveClassifier(max_iter=5)\n",
    "linear_PAC_count = PassiveAggressiveClassifier(max_iter=5)\n",
    "\n",
    "SVM_tfidf = LinearSVC()\n",
    "SVM_count = LinearSVC()"
   ]
  },
  {
   "cell_type": "code",
   "execution_count": 16,
   "metadata": {},
   "outputs": [
    {
     "name": "stdout",
     "output_type": "stream",
     "text": [
      "accuracy of TFIDF matrix with Naive Bayes:   0.914\n",
      "accuracy of COUNT VECTORIZER matrix with Naive Bayes:   0.958\n",
      "\n",
      "accuracy of TFIDF matrix with Passive Aggressive Classifier (linear):   0.989\n",
      "accuracy of COUNT VECTORIZER matrix with Passive Aggressive Classifier (linear):   0.969\n",
      "\n",
      "accuracy of TFIDF matrix with SVM:   0.988\n",
      "accuracy of COUNT VECTORIZER matrix with Passive Aggressive Classifier (linear):   0.980\n"
     ]
    }
   ],
   "source": [
    "model_tfidf_NB, pred_tfidf_NB, score_tfidf_NB = trainModel(NB_tfidf, tfidf_train, y_train, tfidf_test, y_test)\n",
    "model_count_NB, pred_count_NB, score_count_NB = trainModel(NB_count, count_train, y_train, count_test, y_test)\n",
    "\n",
    "model_tfidf_pac, pred_tfidf_pac, score_tfidf_pac = trainModel(linear_PAC_tfidf, tfidf_train, y_train, tfidf_test, y_test)\n",
    "model_count_pac, pred_count_pac, score_count_pac = trainModel(linear_PAC_count, count_train, y_train, count_test, y_test)\n",
    "\n",
    "model_tfidf_svm, pred_tfidf_svm, score_tfidf_svm = trainModel(SVM_tfidf, tfidf_train, y_train, tfidf_test, y_test)\n",
    "model_count_svm, pred_count_svm, score_count_svm = trainModel(SVM_count, count_train, y_train, count_test, y_test)\n",
    "\n",
    "\n",
    "print(\"accuracy of TFIDF matrix with Naive Bayes:   %0.3f\" % score_tfidf_NB)\n",
    "print(\"accuracy of COUNT VECTORIZER matrix with Naive Bayes:   %0.3f\" % score_count_NB)\n",
    "print\n",
    "print(\"accuracy of TFIDF matrix with Passive Aggressive Classifier (linear):   %0.3f\" % score_tfidf_pac)\n",
    "print(\"accuracy of COUNT VECTORIZER matrix with Passive Aggressive Classifier (linear):   %0.3f\" % score_count_pac)\n",
    "print\n",
    "print(\"accuracy of TFIDF matrix with SVM:   %0.3f\" % score_tfidf_svm)\n",
    "print(\"accuracy of COUNT VECTORIZER matrix with Passive Aggressive Classifier (linear):   %0.3f\" % score_count_svm)\n"
   ]
  },
  {
   "cell_type": "code",
   "execution_count": 17,
   "metadata": {},
   "outputs": [
    {
     "name": "stdout",
     "output_type": "stream",
     "text": [
      "TFIDF features using Naive Bayes to learn\n",
      "Confusion matrix, without normalization\n"
     ]
    },
    {
     "data": {
      "image/png": "[encoded data removed]",
      "text/plain": [
       "<matplotlib.figure.Figure at 0x7fa264651990>"
      ]
     },
     "metadata": {},
     "output_type": "display_data"
    },
    {
     "name": "stdout",
     "output_type": "stream",
     "text": [
      "CountVectorizer features using Naive Bayes to learn\n",
      "Confusion matrix, without normalization\n"
     ]
    },
    {
     "data": {
      "image/png": "[encoded data removed]",
      "text/plain": [
       "<matplotlib.figure.Figure at 0x7fa29c606710>"
      ]
     },
     "metadata": {},
     "output_type": "display_data"
    },
    {
     "name": "stdout",
     "output_type": "stream",
     "text": [
      "TFIDF features using Passive Aggressive Classifier (linear) to learn\n",
      "Confusion matrix, without normalization\n"
     ]
    },
    {
     "data": {
      "image/png": "[encoded data removed]",
      "text/plain": [
       "<matplotlib.figure.Figure at 0x7fa263b38550>"
      ]
     },
     "metadata": {},
     "output_type": "display_data"
    },
    {
     "name": "stdout",
     "output_type": "stream",
     "text": [
      "CountVectorizer features using Passive Aggressive Classifier (linear) to learn\n",
      "Confusion matrix, without normalization\n"
     ]
    },
    {
     "data": {
      "image/png": "[encoded data removed]",
      "text/plain": [
       "<matplotlib.figure.Figure at 0x7fa263c81510>"
      ]
     },
     "metadata": {},
     "output_type": "display_data"
    },
    {
     "name": "stdout",
     "output_type": "stream",
     "text": [
      "TFIDF features using SVM to learn\n",
      "Confusion matrix, without normalization\n"
     ]
    },
    {
     "data": {
      "image/png": "[encoded data removed]",
      "text/plain": [
       "<matplotlib.figure.Figure at 0x7fa263c81c50>"
      ]
     },
     "metadata": {},
     "output_type": "display_data"
    },
    {
     "name": "stdout",
     "output_type": "stream",
     "text": [
      "CountVectorizer features using SVM to learn\n",
      "Confusion matrix, without normalization\n"
     ]
    },
    {
     "data": {
      "image/png": "[encoded data removed]",
      "text/plain": [
       "<matplotlib.figure.Figure at 0x7fa263d8b750>"
      ]
     },
     "metadata": {},
     "output_type": "display_data"
    }
   ],
   "source": [
    "print \"TFIDF features using Naive Bayes to learn\"\n",
    "plotConfMatrix(pred_tfidf_NB)\n",
    "print \"CountVectorizer features using Naive Bayes to learn\"\n",
    "plotConfMatrix(pred_count_NB)\n",
    "print \"TFIDF features using Passive Aggressive Classifier (linear) to learn\"\n",
    "plotConfMatrix(pred_tfidf_pac)\n",
    "print \"CountVectorizer features using Passive Aggressive Classifier (linear) to learn\"\n",
    "plotConfMatrix(pred_count_pac)\n",
    "print \"TFIDF features using SVM to learn\"\n",
    "plotConfMatrix(pred_tfidf_svm)\n",
    "print \"CountVectorizer features using SVM to learn\"\n",
    "plotConfMatrix(pred_count_svm)"
   ]
  },
  {
   "cell_type": "code",
   "execution_count": null,
   "metadata": {},
   "outputs": [],
   "source": []
  }
 ],
 "metadata": {
  "kernelspec": {
   "display_name": "Python 2",
   "language": "python",
   "name": "python2"
  },
  "language_info": {
   "codemirror_mode": {
    "name": "ipython",
    "version": 2
   },
   "file_extension": ".py",
   "mimetype": "text/x-python",
   "name": "python",
   "nbconvert_exporter": "python",
   "pygments_lexer": "ipython2",
   "version": "2.7.12"
  }
 },
 "nbformat": 4,
 "nbformat_minor": 2
}
