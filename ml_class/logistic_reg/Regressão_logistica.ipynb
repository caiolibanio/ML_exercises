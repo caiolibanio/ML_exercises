{
 "cells": [
  {
   "cell_type": "markdown",
   "metadata": {},
   "source": [
    "# Regressão Logística com NumPy\n",
    "Atividade para Implementação da regressão logística do zero utilizando o iris dataset. Quanto ao dataset, a classe setosa foi marcada como sendo (1) e as outras duas classes como (0). Esta marcação foi feita no próprio dataset, que está junto no github."
   ]
  },
  {
   "cell_type": "code",
   "execution_count": 1,
   "metadata": {},
   "outputs": [],
   "source": [
    "import numpy as np\n",
    "import math\n",
    "import time\n",
    "from sklearn import linear_model\n",
    "from sklearn.linear_model import LogisticRegression\n",
    "import sys"
   ]
  },
  {
   "cell_type": "code",
   "execution_count": 2,
   "metadata": {},
   "outputs": [],
   "source": [
    "def calc_sigmoid(X, w):\n",
    "    sigmod_exp = np.dot(X, w)\n",
    "    sigmoid_value = 1 / (1 + np.exp(-sigmod_exp))\n",
    "    return sigmoid_value"
   ]
  },
  {
   "cell_type": "code",
   "execution_count": 3,
   "metadata": {},
   "outputs": [],
   "source": [
    "def step_gradient(w_current,X,Y,learningRate):\n",
    "    sigmoid_value = calc_sigmoid(X, w_current)  #sigmoid\n",
    "    for i in range(len(w_current)):\n",
    "        partial_sub = Y - sigmoid_value\n",
    "        partial = np.dot(X.T, partial_sub)\n",
    "        w_current += learningRate * partial\n",
    "    return w_current"
   ]
  },
  {
   "cell_type": "code",
   "execution_count": 4,
   "metadata": {},
   "outputs": [],
   "source": [
    "def gradient_ascent_vectorized(starting_w, X,Y, learning_rate, num_iterations):\n",
    "    w = starting_w\n",
    "    i = 0\n",
    "    while (i <= num_iterations):\n",
    "        w = step_gradient(w, X, Y, learning_rate)\n",
    "        i = i + 1\n",
    "    return w"
   ]
  },
  {
   "cell_type": "code",
   "execution_count": 5,
   "metadata": {},
   "outputs": [],
   "source": [
    "def usingScikitLearn(X, Y):\n",
    "    logistic_model = LogisticRegression(fit_intercept=True, C = sys.maxsize)\n",
    "    logistic_model.fit(X, Y)\n",
    "    return logistic_model.coef_"
   ]
  },
  {
   "cell_type": "code",
   "execution_count": 6,
   "metadata": {},
   "outputs": [],
   "source": [
    "def init_parameters(points):\n",
    "    total_columns = points.shape[1] - 1\n",
    "    total_rows = points.shape[0] - 1\n",
    "    \n",
    "    Y = points[:,total_columns][:,np.newaxis]\n",
    "    Y_cra = Y[:,0]\n",
    "    init_w = np.zeros(total_columns)\n",
    "    X_matrix = points[:,0:-1]\n",
    "    return X_matrix, Y_cra, init_w\n"
   ]
  },
  {
   "cell_type": "code",
   "execution_count": 7,
   "metadata": {},
   "outputs": [
    {
     "name": "stdout",
     "output_type": "stream",
     "text": [
      "usando o algoritmo implementado...\n",
      "[ 0.84802678  1.38509463  4.60428632 -7.35788544 -3.59643623]\n",
      "usando skit...\n",
      "[[ 0.85285724  1.37776206  4.85347965 -7.78507439 -3.80214487]]\n"
     ]
    }
   ],
   "source": [
    "all_data = np.genfromtxt(\"iris.data\", delimiter=\",\")\n",
    "\n",
    "all_data = np.c_[np.ones(len(all_data)),all_data]\n",
    "\n",
    "X_matrix, Y_cra, init_w = init_parameters(all_data)\n",
    "\n",
    "learning_rate = 0.0008\n",
    "\n",
    "num_exec = 80000\n",
    "\n",
    "coefs = gradient_ascent_vectorized(init_w, X_matrix, Y_cra, learning_rate, num_exec)\n",
    "print 'usando o algoritmo implementado...'\n",
    "print coefs\n",
    "\n",
    "\n",
    "print 'usando skit...'\n",
    "print usingScikitLearn(X_matrix, Y_cra)"
   ]
  },
  {
   "cell_type": "markdown",
   "metadata": {
    "collapsed": true
   },
   "source": [
    "## COMPARANDO A SAÍDA COM A DO SCIKIT LEARN:\n",
    "\n",
    "Como pode ser visto acima, a saída reportada pelo algoritmo implementado se aproxima da saída reportada pelo scikit learn. Para o algoritmo implementado, foi utilizado um learning rate de 0.0008 e um número de execuções de 80000."
   ]
  },
  {
   "cell_type": "code",
   "execution_count": 8,
   "metadata": {},
   "outputs": [],
   "source": [
    "def predict(vector, coefs): #Funcao predict recebendo um vetor e os coeficientes aprendidos\n",
    "    return round(calc_sigmoid(vector, coefs))"
   ]
  },
  {
   "cell_type": "code",
   "execution_count": 9,
   "metadata": {},
   "outputs": [
    {
     "name": "stdout",
     "output_type": "stream",
     "text": [
      "Classificando um vetor que espera-se que seja Setosa (1)...\n",
      "1.0\n"
     ]
    }
   ],
   "source": [
    "print \"Classificando um vetor que espera-se que seja Setosa (1)...\"\n",
    "print predict([1,5.1,3.5,1.4,0.2], coefs)"
   ]
  },
  {
   "cell_type": "markdown",
   "metadata": {},
   "source": [
    "## CRIANDO FUNÇÃO PREDICT:\n",
    "Acima é mostrado a função predict que, usando a função sigmoid, retorna a probabilidade de que o vetor passado como parâmetro seja Setosa (1) ou Versiclour_Virginica (0). Apenas como teste, foi passado um vetor que deve ser classificado como Setosa (1)."
   ]
  },
  {
   "cell_type": "markdown",
   "metadata": {},
   "source": [
    "## PEQUENO EXPERIMENTO:\n",
    "\n",
    "A partir daqui, é executando um pequeno experimento com o objetivo de verificar a eficácia da regressão logística em classificar os dados corretamente. Aqui, é separado um conjunto de treino (130 entradas) e teste (20 entradas, onde 50% y=1 e 50% y = 0). O algoritmo implementado é então treinado com as 130 entradas e, posteriormente, testado com o conjunto de teste, onde utilizando os coeficientes encontrados, a função predict tenta fazer as previsões corretas.\n"
   ]
  },
  {
   "cell_type": "code",
   "execution_count": 10,
   "metadata": {},
   "outputs": [],
   "source": [
    "def extractTestData(indx_vector, all_data):\n",
    "    test_array = np.zeros([len(indx_vector),6])\n",
    "    actual_index = 0\n",
    "    for i in range(len(all_data)):\n",
    "        if i in indx_vector:\n",
    "            test_array[actual_index] = all_data[i]\n",
    "            actual_index += 1\n",
    "    return test_array"
   ]
  },
  {
   "cell_type": "code",
   "execution_count": 11,
   "metadata": {},
   "outputs": [],
   "source": [
    "def extractTrainingData(indx_vector, all_data):\n",
    "    return np.delete(all_data, indx_vector, 0)"
   ]
  },
  {
   "cell_type": "code",
   "execution_count": 12,
   "metadata": {},
   "outputs": [],
   "source": [
    "test_indexes = [0,1,2,3,4,5,6,7,8,9,50,51,52,53,54,55,56,57,58,59] #Os primeiros 10 Setosa e primeiros 10 Versicolor\n",
    "test_conj = extractTestData(test_indexes, all_data)\n",
    "training_conj = extractTrainingData(test_indexes, all_data)"
   ]
  },
  {
   "cell_type": "code",
   "execution_count": 13,
   "metadata": {},
   "outputs": [],
   "source": [
    "#TREINANDO NOVAMENTE COM O CONJUNTO DE TREINO"
   ]
  },
  {
   "cell_type": "code",
   "execution_count": 14,
   "metadata": {},
   "outputs": [
    {
     "name": "stdout",
     "output_type": "stream",
     "text": [
      "Novos coeficientes encontrados com o conjunto de treino (130)...\n",
      "[ 0.83121234  1.37056889  4.52259894 -7.25316184 -3.5455817 ]\n"
     ]
    }
   ],
   "source": [
    "X_training, Y_training, init_w_training = init_parameters(training_conj)\n",
    "new_coefs = gradient_ascent_vectorized(init_w_training, X_training, Y_training, 0.0008, 80000)\n",
    "\n",
    "print 'Novos coeficientes encontrados com o conjunto de treino (130)...'\n",
    "print new_coefs"
   ]
  },
  {
   "cell_type": "code",
   "execution_count": 15,
   "metadata": {},
   "outputs": [
    {
     "name": "stdout",
     "output_type": "stream",
     "text": [
      "Verificando se o modelo consegue classificar bem o conjunto de teste...\n",
      "1.0\n",
      "1.0\n",
      "1.0\n",
      "1.0\n",
      "1.0\n",
      "1.0\n",
      "1.0\n",
      "1.0\n",
      "1.0\n",
      "1.0\n",
      "0.0\n",
      "0.0\n",
      "0.0\n",
      "0.0\n",
      "0.0\n",
      "0.0\n",
      "0.0\n",
      "0.0\n",
      "0.0\n",
      "0.0\n"
     ]
    }
   ],
   "source": [
    "X_test, Y_test, init_w_test = init_parameters(test_conj)\n",
    "print 'Verificando se o modelo consegue classificar bem o conjunto de teste...'\n",
    "for i in X_test:\n",
    "    print predict(i, new_coefs)"
   ]
  },
  {
   "cell_type": "markdown",
   "metadata": {},
   "source": [
    "## RESULTADOS DO EXPERIMENTO:\n",
    "Como pode ser visto acima, os dez primeiros valores (que são os dez primeiros valores do conjunto de dados do iris, logo são classificadas como Setosa (1)) foram classificadas corretamente. Quanto aos dez últimos valores, que são os dez primeiros valores do conjunto de dados do iris classificados como \"Versicolor\" (0) também foram classificadas corretamente pelo algoritmo implementado. Com isso, a taxa de acerto foi de 100% para o experimento proposto.\n"
   ]
  },
  {
   "cell_type": "code",
   "execution_count": null,
   "metadata": {},
   "outputs": [],
   "source": []
  }
 ],
 "metadata": {
  "kernelspec": {
   "display_name": "Python 2",
   "language": "python",
   "name": "python2"
  },
  "language_info": {
   "codemirror_mode": {
    "name": "ipython",
    "version": 2
   },
   "file_extension": ".py",
   "mimetype": "text/x-python",
   "name": "python",
   "nbconvert_exporter": "python",
   "pygments_lexer": "ipython2",
   "version": "2.7.12"
  }
 },
 "nbformat": 4,
 "nbformat_minor": 2
}
