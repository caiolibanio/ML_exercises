{
 "cells": [
  {
   "cell_type": "markdown",
   "metadata": {},
   "source": [
    "# Regressão Linear com NumPy"
   ]
  },
  {
   "cell_type": "code",
   "execution_count": 1,
   "metadata": {},
   "outputs": [],
   "source": [
    "import numpy as np\n",
    "import math\n",
    "import time\n",
    "from sklearn import linear_model"
   ]
  },
  {
   "cell_type": "markdown",
   "metadata": {},
   "source": [
    "### Versão Vetorizada"
   ]
  },
  {
   "cell_type": "markdown",
   "metadata": {},
   "source": [
    "$MSE(\\hat{w})=\\frac{1}{N}(y-\\hat{\\mathbf{w}}^T\\mathbf{x})^T(y-\\hat{\\mathbf{w}}^T\\mathbf{x})$"
   ]
  },
  {
   "cell_type": "code",
   "execution_count": 2,
   "metadata": {},
   "outputs": [],
   "source": [
    "def compute_mse_vectorized(w,X,Y):\n",
    "    res = Y - np.dot(X,w)\n",
    "    totalError = np.dot(res.T,res)\n",
    "    return totalError / float(len(Y))"
   ]
  },
  {
   "cell_type": "code",
   "execution_count": 3,
   "metadata": {},
   "outputs": [],
   "source": [
    "def step_gradient_vectorized(w_current,X,Y,learningRate):\n",
    "    res = np.dot(X,w_current) - Y\n",
    "    for i in range(len(w_current)):\n",
    "        partial = 2 * np.dot(res, X[:, i])\n",
    "        w_current[i] = w_current[i] - learningRate * partial\n",
    "    return w_current"
   ]
  },
  {
   "cell_type": "code",
   "execution_count": 4,
   "metadata": {},
   "outputs": [],
   "source": [
    "def gradient_descent_runner_vectorized(starting_w, X,Y, learning_rate, num_iterations):\n",
    "    w = starting_w\n",
    "    i = 0\n",
    "    while (i <= num_iterations):\n",
    "        w = step_gradient_vectorized(w, X, Y, learning_rate)\n",
    "        i = i + 1\n",
    "    return w"
   ]
  },
  {
   "cell_type": "code",
   "execution_count": 5,
   "metadata": {},
   "outputs": [],
   "source": [
    "def using_sklearn(X, Y):\n",
    "    linear = linear_model.LinearRegression()\n",
    "    linear.fit(X,Y)\n",
    "    return linear.intercept_, linear.coef_\n"
   ]
  },
  {
   "cell_type": "code",
   "execution_count": 6,
   "metadata": {},
   "outputs": [],
   "source": [
    "def init_parameters(points):\n",
    "    total_columns = points.shape[1] - 1\n",
    "    total_rows = points.shape[0] - 1\n",
    "    \n",
    "    Y = points[:,total_columns][:,np.newaxis]\n",
    "    Y = Y[1:]\n",
    "    Y_cra = Y[:,0]\n",
    "    \n",
    "    X_matrix = np.zeros(total_rows * total_columns)\n",
    "    X_matrix.shape = (total_rows, total_columns)\n",
    "    init_w = np.zeros(total_columns)\n",
    "    \n",
    "    for i in range(total_columns):\n",
    "        X_matrix[:,i] = points[:,0:-1][1:][:,i]\n",
    "    return X_matrix, Y_cra, init_w\n"
   ]
  },
  {
   "cell_type": "code",
   "execution_count": 7,
   "metadata": {},
   "outputs": [
    {
     "name": "stdout",
     "output_type": "stream",
     "text": [
      "Running...\n",
      "Coeficientes encontrados...\n",
      "[ 1.73398644  0.10310818  0.04660717  0.16408986  0.38136758  0.020324  ]\n",
      "-------------------------------------\n",
      "Usando o sklearn\n",
      "Intercept:  1.73771151379\n",
      "Coefs:  [ 0.          0.10304143  0.0464367   0.16409834  0.38117843  0.02027816]\n"
     ]
    }
   ],
   "source": [
    "points = np.genfromtxt(\"sample_treino.csv\", delimiter=\",\")\n",
    "points = np.c_[np.ones(len(points)),points]\n",
    "\n",
    "X_matrix, Y_cra, init_w = init_parameters(points)\n",
    "\n",
    "learning_rate = 0.00001\n",
    "num_iterations = 500000 #condicao de parada\n",
    "print(\"Running...\")\n",
    "w = gradient_descent_runner_vectorized(init_w, X_matrix, Y_cra, learning_rate, num_iterations)\n",
    "print (\"Coeficientes encontrados...\")\n",
    "print (w)\n",
    "print (\"-------------------------------------\")\n",
    "print (\"Usando o sklearn\")\n",
    "intercept, coef = using_sklearn(X_matrix,Y_cra) #resultados usando o sklearn\n",
    "print (\"Intercept: \", intercept)\n",
    "print (\"Coefs: \", coef)"
   ]
  },
  {
   "cell_type": "code",
   "execution_count": 8,
   "metadata": {},
   "outputs": [],
   "source": [
    "#Comentarios:\n",
    "#Para estimar os coeficientes, foi utilizado um learning_rate de 0.00001 e, como condicao de parada, o \n",
    "#num_iterations de 500000. Com esses valores, o algoritmo retornou coeficientes bem semelhantes aos \n",
    "#reportados pelo scikit learn."
   ]
  },
  {
   "cell_type": "code",
   "execution_count": null,
   "metadata": {
    "collapsed": true
   },
   "outputs": [],
   "source": []
  }
 ],
 "metadata": {
  "kernelspec": {
   "display_name": "Python 3",
   "language": "python",
   "name": "python3"
  },
  "language_info": {
   "codemirror_mode": {
    "name": "ipython",
    "version": 3
   },
   "file_extension": ".py",
   "mimetype": "text/x-python",
   "name": "python",
   "nbconvert_exporter": "python",
   "pygments_lexer": "ipython3",
   "version": "3.6.2"
  }
 },
 "nbformat": 4,
 "nbformat_minor": 2
}
