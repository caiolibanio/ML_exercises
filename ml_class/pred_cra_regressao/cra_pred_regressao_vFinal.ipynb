{
 "cells": [
  {
   "cell_type": "code",
   "execution_count": 1,
   "metadata": {},
   "outputs": [],
   "source": [
    "import pandas as pd\n",
    "import numpy as np\n",
    "import seaborn as sns\n",
    "import matplotlib\n",
    "\n",
    "import matplotlib.pyplot as plt\n",
    "from scipy.stats import skew\n",
    "from scipy.stats.stats import pearsonr\n",
    "import scipy\n",
    "from sklearn.linear_model import Ridge\n",
    "from sklearn.linear_model import Lasso\n",
    "from sklearn.metrics import mean_squared_error\n",
    "from sklearn.metrics import r2_score\n",
    "from sklearn.model_selection import cross_val_score\n",
    "from sklearn.neighbors import NearestNeighbors\n",
    "import math\n",
    "import sys\n",
    "\n",
    "stdout = sys.stdout\n",
    "\n",
    "reload(sys)  \n",
    "sys.setdefaultencoding('utf8')\n",
    "sys.stdout = stdout\n",
    "\n",
    "%config InlineBackend.figure_format = 'png' #set 'png' here when working on notebook\n",
    "%matplotlib inline"
   ]
  },
  {
   "cell_type": "code",
   "execution_count": 2,
   "metadata": {},
   "outputs": [
    {
     "data": {
      "text/html": [
       "<div>\n",
       "<style>\n",
       "    .dataframe thead tr:only-child th {\n",
       "        text-align: right;\n",
       "    }\n",
       "\n",
       "    .dataframe thead th {\n",
       "        text-align: left;\n",
       "    }\n",
       "\n",
       "    .dataframe tbody tr th {\n",
       "        vertical-align: top;\n",
       "    }\n",
       "</style>\n",
       "<table border=\"1\" class=\"dataframe\">\n",
       "  <thead>\n",
       "    <tr style=\"text-align: right;\">\n",
       "      <th></th>\n",
       "      <th>matricula</th>\n",
       "      <th>Vetorial</th>\n",
       "      <th>LPT</th>\n",
       "      <th>P1</th>\n",
       "      <th>IC</th>\n",
       "      <th>LP1</th>\n",
       "      <th>Cálculo2</th>\n",
       "      <th>Discreta</th>\n",
       "      <th>P2</th>\n",
       "      <th>Grafos</th>\n",
       "      <th>Fís.Clássica</th>\n",
       "      <th>LP2</th>\n",
       "      <th>cra</th>\n",
       "      <th>Cálculo1</th>\n",
       "    </tr>\n",
       "  </thead>\n",
       "  <tbody>\n",
       "    <tr>\n",
       "      <th>0</th>\n",
       "      <td>0cc3d63edf0b986cb87e345972857e15</td>\n",
       "      <td>8.6</td>\n",
       "      <td>10.0</td>\n",
       "      <td>9.0</td>\n",
       "      <td>9.1</td>\n",
       "      <td>8.6</td>\n",
       "      <td>8.4</td>\n",
       "      <td>8.3</td>\n",
       "      <td>8.8</td>\n",
       "      <td>8.2</td>\n",
       "      <td>7.9</td>\n",
       "      <td>9.4</td>\n",
       "      <td>8.477647</td>\n",
       "      <td>8.7</td>\n",
       "    </tr>\n",
       "    <tr>\n",
       "      <th>1</th>\n",
       "      <td>0d78246db769dc958ce19fc414050b2a</td>\n",
       "      <td>5.6</td>\n",
       "      <td>7.0</td>\n",
       "      <td>7.7</td>\n",
       "      <td>7.0</td>\n",
       "      <td>8.1</td>\n",
       "      <td>6.2</td>\n",
       "      <td>7.3</td>\n",
       "      <td>8.2</td>\n",
       "      <td>5.4</td>\n",
       "      <td>7.7</td>\n",
       "      <td>8.9</td>\n",
       "      <td>6.851724</td>\n",
       "      <td>7.0</td>\n",
       "    </tr>\n",
       "    <tr>\n",
       "      <th>2</th>\n",
       "      <td>0f5bb983df06b90337dc2c6301fef3f6</td>\n",
       "      <td>10.0</td>\n",
       "      <td>9.8</td>\n",
       "      <td>7.9</td>\n",
       "      <td>9.6</td>\n",
       "      <td>8.3</td>\n",
       "      <td>8.7</td>\n",
       "      <td>8.8</td>\n",
       "      <td>9.5</td>\n",
       "      <td>9.2</td>\n",
       "      <td>8.6</td>\n",
       "      <td>9.7</td>\n",
       "      <td>9.090588</td>\n",
       "      <td>8.6</td>\n",
       "    </tr>\n",
       "    <tr>\n",
       "      <th>3</th>\n",
       "      <td>1307a4421a67a497cea198e8ccfb97ee</td>\n",
       "      <td>6.1</td>\n",
       "      <td>8.3</td>\n",
       "      <td>6.8</td>\n",
       "      <td>8.2</td>\n",
       "      <td>7.1</td>\n",
       "      <td>8.0</td>\n",
       "      <td>6.3</td>\n",
       "      <td>8.9</td>\n",
       "      <td>7.0</td>\n",
       "      <td>8.5</td>\n",
       "      <td>9.0</td>\n",
       "      <td>7.283516</td>\n",
       "      <td>7.8</td>\n",
       "    </tr>\n",
       "    <tr>\n",
       "      <th>4</th>\n",
       "      <td>1432d50cf8519694ab992c414d90a130</td>\n",
       "      <td>8.8</td>\n",
       "      <td>9.3</td>\n",
       "      <td>5.0</td>\n",
       "      <td>8.5</td>\n",
       "      <td>5.1</td>\n",
       "      <td>5.0</td>\n",
       "      <td>5.8</td>\n",
       "      <td>7.1</td>\n",
       "      <td>5.4</td>\n",
       "      <td>8.7</td>\n",
       "      <td>8.2</td>\n",
       "      <td>7.205747</td>\n",
       "      <td>5.2</td>\n",
       "    </tr>\n",
       "  </tbody>\n",
       "</table>\n",
       "</div>"
      ],
      "text/plain": [
       "                          matricula  Vetorial   LPT   P1   IC  LP1  Cálculo2  \\\n",
       "0  0cc3d63edf0b986cb87e345972857e15       8.6  10.0  9.0  9.1  8.6       8.4   \n",
       "1  0d78246db769dc958ce19fc414050b2a       5.6   7.0  7.7  7.0  8.1       6.2   \n",
       "2  0f5bb983df06b90337dc2c6301fef3f6      10.0   9.8  7.9  9.6  8.3       8.7   \n",
       "3  1307a4421a67a497cea198e8ccfb97ee       6.1   8.3  6.8  8.2  7.1       8.0   \n",
       "4  1432d50cf8519694ab992c414d90a130       8.8   9.3  5.0  8.5  5.1       5.0   \n",
       "\n",
       "   Discreta   P2  Grafos  Fís.Clássica  LP2       cra  Cálculo1  \n",
       "0       8.3  8.8     8.2           7.9  9.4  8.477647       8.7  \n",
       "1       7.3  8.2     5.4           7.7  8.9  6.851724       7.0  \n",
       "2       8.8  9.5     9.2           8.6  9.7  9.090588       8.6  \n",
       "3       6.3  8.9     7.0           8.5  9.0  7.283516       7.8  \n",
       "4       5.8  7.1     5.4           8.7  8.2  7.205747       5.2  "
      ]
     },
     "execution_count": 2,
     "metadata": {},
     "output_type": "execute_result"
    }
   ],
   "source": [
    "train = pd.read_csv(\"treino.csv\")\n",
    "test = pd.read_csv(\"teste.csv\")\n",
    "train.head()"
   ]
  },
  {
   "cell_type": "code",
   "execution_count": 3,
   "metadata": {},
   "outputs": [],
   "source": [
    "def draw_charts(labels, features):\n",
    "    for i in labels:    \n",
    "        matplotlib.rcParams['figure.figsize'] = (12.0, 6.0)\n",
    "        df_hist = pd.DataFrame({i : features[i], \"log(\" +  i + \" + 1)\":np.log1p(features[i])})\n",
    "        df_hist.hist()"
   ]
  },
  {
   "cell_type": "code",
   "execution_count": 4,
   "metadata": {},
   "outputs": [],
   "source": [
    "def treatingDummieData(features):\n",
    "    features = pd.get_dummies(features)\n",
    "    return features"
   ]
  },
  {
   "cell_type": "code",
   "execution_count": 5,
   "metadata": {},
   "outputs": [],
   "source": [
    "def fillNA(features):\n",
    "    features = features.fillna(features.mean())\n",
    "    return features"
   ]
  },
  {
   "cell_type": "code",
   "execution_count": 6,
   "metadata": {
    "scrolled": false
   },
   "outputs": [],
   "source": [
    "all_train_x = train.loc[:,'Vetorial':'Cálculo1']\n",
    "all_test_x = test.loc[:,'Cálculo1':'LP2']\n",
    "\n",
    "cra_train_y = train.loc[:,'cra']\n",
    "cra_test_y = test.loc[:,'cra']\n",
    "all_train_x = all_train_x.drop('cra', axis=1)\n",
    "\n",
    "all_test_x = treatingDummieData(all_test_x)\n",
    "all_test_x = fillNA(all_test_x)\n",
    "\n",
    "all_train_x = treatingDummieData(all_train_x)\n",
    "all_train_x = fillNA(all_train_x)\n",
    "\n",
    "\n",
    "#data_labels = all_train_x[0:0]\n"
   ]
  },
  {
   "cell_type": "code",
   "execution_count": 7,
   "metadata": {},
   "outputs": [],
   "source": [
    "def logTransformation(labels, features):\n",
    "    transformed = []\n",
    "    p_values = []\n",
    "    for label in labels:\n",
    "        features[label] = (np.log1p(features[label]))\n",
    "    p_values = normalityTest(labels, features)\n",
    "    return p_values"
   ]
  },
  {
   "cell_type": "code",
   "execution_count": 8,
   "metadata": {},
   "outputs": [],
   "source": [
    "#Analisando tanto os gráficos e os valores para os p_values antes e apos a transformacao logaritmica,\n",
    "#pode-se perceber que apenas tres variaveis sao normais, de acordo com o teste de normalidade utilizado,\n",
    "#sendo elas: LPT, IC e Grafos. As transformacoes logaritmicas nao influenciaram significativamente nos \n",
    "#resultados."
   ]
  },
  {
   "cell_type": "code",
   "execution_count": 9,
   "metadata": {},
   "outputs": [],
   "source": [
    "#Neste ponto, pode-se observar a inclinacao dos dados, ou seja, o quao enviesados para esquerda ou direita eles\n",
    "#estao"
   ]
  },
  {
   "cell_type": "code",
   "execution_count": 10,
   "metadata": {},
   "outputs": [],
   "source": [
    "#partial_data = treatingDummieData(treatingDummieData)\n",
    "#partial_data = fillNA(all_data)"
   ]
  },
  {
   "cell_type": "code",
   "execution_count": 11,
   "metadata": {},
   "outputs": [],
   "source": [
    "def buildRidgeModel(X, Y, alpha):\n",
    "    model = Ridge(alpha)\n",
    "    model.fit(X, Y)\n",
    "    return model"
   ]
  },
  {
   "cell_type": "code",
   "execution_count": 12,
   "metadata": {},
   "outputs": [],
   "source": [
    "def buildLassoModel(X, Y, alpha):\n",
    "    model = Lasso(alpha)\n",
    "    model.fit(X,Y)\n",
    "    return model"
   ]
  },
  {
   "cell_type": "code",
   "execution_count": 13,
   "metadata": {},
   "outputs": [],
   "source": [
    "def buildKNN(X):\n",
    "    model = NearestNeighbors(n_neighbors=2, algorithm='ball_tree').fit(X)\n",
    "    return model"
   ]
  },
  {
   "cell_type": "code",
   "execution_count": 14,
   "metadata": {},
   "outputs": [],
   "source": [
    "def cross_validation(model, X, Y, cv, scoring):\n",
    "    scores = cross_val_score(model, X, Y, cv=cv, scoring=scoring)\n",
    "    return scores"
   ]
  },
  {
   "cell_type": "code",
   "execution_count": 15,
   "metadata": {},
   "outputs": [],
   "source": [
    "def calculateRMSE(scores):\n",
    "    mse = 0\n",
    "    for i in scores:\n",
    "        mse = mse + (i ** 2)  \n",
    "    rmse = np.sqrt(mse)\n",
    "    return rmse"
   ]
  },
  {
   "cell_type": "code",
   "execution_count": 25,
   "metadata": {},
   "outputs": [],
   "source": [
    "def plot_data(scores, Y, title):\n",
    "    matplotlib.rcParams['figure.figsize'] = (6.0, 6.0)\n",
    "    preds = pd.DataFrame({\"preds\":scores, \"true\":Y})\n",
    "    preds[\"residuals\"] = preds[\"true\"] - preds[\"preds\"]\n",
    "    preds.plot(x = \"preds\", y = \"residuals\",kind = \"scatter\", title = title)\n",
    "    "
   ]
  },
  {
   "cell_type": "code",
   "execution_count": 26,
   "metadata": {},
   "outputs": [],
   "source": [
    "#modelRidge = buildRidgeModel(all_train_x, cra_train_y, 0.0)\n",
    "modelRidge = Ridge()\n",
    "modelLasso = Lasso()\n",
    "modelKNN = NearestNeighbors(n_neighbors=2, algorithm='ball_tree').fit(all_train_x)"
   ]
  },
  {
   "cell_type": "code",
   "execution_count": 27,
   "metadata": {},
   "outputs": [
    {
     "name": "stdout",
     "output_type": "stream",
     "text": [
      "For Ridge -> Mean squared error: 0.17\n",
      "For Ridge -> R-squared: 0.63\n",
      "('Ridge RMSE -> ', 1.1961165893114565)\n",
      "\n",
      "For Lasso -> Mean squared error: 57.51\n",
      "For Lasso -> R-squared: -125.23\n",
      "('Lasso RMSE -> ', 2.5449562093059437)\n"
     ]
    }
   ],
   "source": [
    "#cross valid\n",
    "scoresRidge = cross_validation(modelRidge, all_train_x, cra_train_y, 10, 'mean_squared_error')\n",
    "scoresLasso = cross_validation(modelLasso, all_train_x, cra_train_y, 10, 'mean_squared_error')\n",
    "\n",
    "modelRidge = buildRidgeModel(all_train_x, cra_train_y, scoresRidge.mean())\n",
    "modelLasso = buildLassoModel(all_train_x, cra_train_y, scoresLasso.mean())\n",
    "\n",
    "predRidge = modelRidge.predict(all_test_x)\n",
    "predLasso = modelLasso.predict(all_test_x)\n",
    "print(\"For Ridge -> Mean squared error: %.2f\" % mean_squared_error(cra_test_y, predRidge))\n",
    "print('For Ridge -> R-squared: %.2f' % r2_score(cra_test_y, predRidge))\n",
    "print (\"Ridge RMSE -> \" , calculateRMSE(scoresRidge))\n",
    "print\n",
    "print(\"For Lasso -> Mean squared error: %.2f\" % mean_squared_error(cra_test_y, predLasso))\n",
    "print('For Lasso -> R-squared: %.2f' % r2_score(cra_test_y, predLasso))\n",
    "print (\"Lasso RMSE -> \" , calculateRMSE(scoresLasso))"
   ]
  },
  {
   "cell_type": "code",
   "execution_count": 28,
   "metadata": {},
   "outputs": [
    {
     "name": "stdout",
     "output_type": "stream",
     "text": [
      "Residuos para para p Ridge: \n"
     ]
    },
    {
     "data": {
      "image/png": "[encoded data removed]",
      "text/plain": [
       "<matplotlib.figure.Figure at 0x7f249073ca10>"
      ]
     },
     "metadata": {},
     "output_type": "display_data"
    }
   ],
   "source": [
    "#let's look at the residuals as well:\n",
    "print (\"Residuos para para p Ridge: \")\n",
    "plot_data(predRidge, cra_test_y, \"Ridge Residuos\")"
   ]
  },
  {
   "cell_type": "code",
   "execution_count": 31,
   "metadata": {},
   "outputs": [
    {
     "name": "stdout",
     "output_type": "stream",
     "text": [
      "Rsiduos para para p Lasso: \n"
     ]
    },
    {
     "data": {
      "image/png": "[encoded data removed]",
      "text/plain": [
       "<matplotlib.figure.Figure at 0x7f2490532290>"
      ]
     },
     "metadata": {},
     "output_type": "display_data"
    }
   ],
   "source": [
    "#let's look at the residuals as well:\n",
    "print (\"Rsiduos para para p Lasso: \")\n",
    "plot_data(predLasso, cra_test_y, \"Lasso Residuos\")"
   ]
  },
  {
   "cell_type": "code",
   "execution_count": null,
   "metadata": {},
   "outputs": [],
   "source": [
    "#Quanto aos residuos, pode-se notar que o modelo Ridge apresenta residuos aleatoriamente distribuitos.\n",
    "#Ja para o Lasso, os residuos parecem seguir um determinado padrao, demonstrando que o modelo nao esta\n",
    "#bem tunado para os dados apresentados."
   ]
  },
  {
   "cell_type": "code",
   "execution_count": null,
   "metadata": {},
   "outputs": [],
   "source": []
  }
 ],
 "metadata": {
  "kernelspec": {
   "display_name": "Python 2",
   "language": "python",
   "name": "python2"
  },
  "language_info": {
   "codemirror_mode": {
    "name": "ipython",
    "version": 2
   },
   "file_extension": ".py",
   "mimetype": "text/x-python",
   "name": "python",
   "nbconvert_exporter": "python",
   "pygments_lexer": "ipython2",
   "version": "2.7.12"
  }
 },
 "nbformat": 4,
 "nbformat_minor": 2
}
